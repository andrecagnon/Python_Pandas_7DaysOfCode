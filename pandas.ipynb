{
 "cells": [
  {
   "cell_type": "code",
   "execution_count": null,
   "id": "10af0719-3dd7-49bf-9cd4-cc942513c9be",
   "metadata": {},
   "outputs": [],
   "source": [
    "import pandas as pd"
   ]
  },
  {
   "cell_type": "code",
   "execution_count": null,
   "id": "829c209e-3ab7-4bf8-b32e-26014c614b00",
   "metadata": {},
   "outputs": [],
   "source": [
    "dados_2010_1 = pd.read_csv('https://github.com/FranciscoFoz/7_Days_of_Code_Alura-Python-Pandas/blob/main/Dia_1-Importando_dados/Datasets/dados_emprestimos/emprestimos-20101.csv?raw=true')\n",
    "dados_2010_2 = pd.read_csv('https://github.com/FranciscoFoz/7_Days_of_Code_Alura-Python-Pandas/blob/main/Dia_1-Importando_dados/Datasets/dados_emprestimos/emprestimos-20102.csv?raw=true')\n",
    "dados_2011_1 = pd.read_csv('https://github.com/FranciscoFoz/7_Days_of_Code_Alura-Python-Pandas/blob/main/Dia_1-Importando_dados/Datasets/dados_emprestimos/emprestimos-20111.csv?raw=true')\n",
    "dados_2011_2 = pd.read_csv('https://github.com/FranciscoFoz/7_Days_of_Code_Alura-Python-Pandas/blob/main/Dia_1-Importando_dados/Datasets/dados_emprestimos/emprestimos-20112.csv?raw=true')\n",
    "dados_2012_1 = pd.read_csv('https://github.com/FranciscoFoz/7_Days_of_Code_Alura-Python-Pandas/blob/main/Dia_1-Importando_dados/Datasets/dados_emprestimos/emprestimos-20121.csv?raw=true')\n",
    "dados_2012_2 = pd.read_csv('https://github.com/FranciscoFoz/7_Days_of_Code_Alura-Python-Pandas/blob/main/Dia_1-Importando_dados/Datasets/dados_emprestimos/emprestimos-20122.csv?raw=true')\n",
    "dados_2013_1 = pd.read_csv('https://github.com/FranciscoFoz/7_Days_of_Code_Alura-Python-Pandas/blob/main/Dia_1-Importando_dados/Datasets/dados_emprestimos/emprestimos-20131.csv?raw=true')\n",
    "dados_2013_2 = pd.read_csv('https://github.com/FranciscoFoz/7_Days_of_Code_Alura-Python-Pandas/blob/main/Dia_1-Importando_dados/Datasets/dados_emprestimos/emprestimos-20132.csv?raw=true')\n",
    "dados_2014_1 = pd.read_csv('https://github.com/FranciscoFoz/7_Days_of_Code_Alura-Python-Pandas/blob/main/Dia_1-Importando_dados/Datasets/dados_emprestimos/emprestimos-20141.csv?raw=true')\n",
    "dados_2014_2 = pd.read_csv('https://github.com/FranciscoFoz/7_Days_of_Code_Alura-Python-Pandas/blob/main/Dia_1-Importando_dados/Datasets/dados_emprestimos/emprestimos-20142.csv?raw=true')\n",
    "dados_2015_1 = pd.read_csv('https://github.com/FranciscoFoz/7_Days_of_Code_Alura-Python-Pandas/blob/main/Dia_1-Importando_dados/Datasets/dados_emprestimos/emprestimos-20151.csv?raw=true')\n",
    "dados_2015_2 = pd.read_csv('https://github.com/FranciscoFoz/7_Days_of_Code_Alura-Python-Pandas/blob/main/Dia_1-Importando_dados/Datasets/dados_emprestimos/emprestimos-20152.csv?raw=true')\n",
    "dados_2016_1 = pd.read_csv('https://github.com/FranciscoFoz/7_Days_of_Code_Alura-Python-Pandas/blob/main/Dia_1-Importando_dados/Datasets/dados_emprestimos/emprestimos-20161.csv?raw=true')\n",
    "dados_2016_2 = pd.read_csv('https://github.com/FranciscoFoz/7_Days_of_Code_Alura-Python-Pandas/blob/main/Dia_1-Importando_dados/Datasets/dados_emprestimos/emprestimos-20162.csv?raw=true')\n",
    "dados_2017_1 = pd.read_csv('https://github.com/FranciscoFoz/7_Days_of_Code_Alura-Python-Pandas/blob/main/Dia_1-Importando_dados/Datasets/dados_emprestimos/emprestimos-20171.csv?raw=true')\n",
    "dados_2017_2 = pd.read_csv('https://github.com/FranciscoFoz/7_Days_of_Code_Alura-Python-Pandas/blob/main/Dia_1-Importando_dados/Datasets/dados_emprestimos/emprestimos-20172.csv?raw=true')\n",
    "dados_2018_1 = pd.read_csv('https://github.com/FranciscoFoz/7_Days_of_Code_Alura-Python-Pandas/blob/main/Dia_1-Importando_dados/Datasets/dados_emprestimos/emprestimos-20181.csv?raw=true')\n",
    "dados_2018_2 = pd.read_csv('https://github.com/FranciscoFoz/7_Days_of_Code_Alura-Python-Pandas/blob/main/Dia_1-Importando_dados/Datasets/dados_emprestimos/emprestimos-20182.csv?raw=true')\n",
    "dados_2019_1 = pd.read_csv('https://github.com/FranciscoFoz/7_Days_of_Code_Alura-Python-Pandas/blob/main/Dia_1-Importando_dados/Datasets/dados_emprestimos/emprestimos-20191.csv?raw=true')\n",
    "dados_2019_2 = pd.read_csv('https://github.com/FranciscoFoz/7_Days_of_Code_Alura-Python-Pandas/blob/main/Dia_1-Importando_dados/Datasets/dados_emprestimos/emprestimos-20192.csv?raw=true')\n",
    "dados_2020_1 = pd.read_csv('https://github.com/FranciscoFoz/7_Days_of_Code_Alura-Python-Pandas/blob/main/Dia_1-Importando_dados/Datasets/dados_emprestimos/emprestimos-20201.csv?raw=true')"
   ]
  },
  {
   "cell_type": "code",
   "execution_count": null,
   "id": "30c246bb-1d8f-41f6-b418-68b07947f920",
   "metadata": {},
   "outputs": [],
   "source": [
    "'''df_consolidado = pd.DataFrame(data=None,columns=[])\n",
    "\n",
    "for sheet in glob.glob(\"C:\\\\*.csv\"):\n",
    "    df_ = pd.read_csv(sheet,header=1)\n",
    "    df_consolidado = pd.concat([df_consolidado,df_])'''"
   ]
  },
  {
   "cell_type": "code",
   "execution_count": null,
   "id": "14538d02-fe98-4f14-b074-72609beb5253",
   "metadata": {},
   "outputs": [],
   "source": [
    "emprestimos_biblioteca = pd.concat([dados_2010_1,dados_2010_2,dados_2011_1,dados_2011_2,dados_2012_1,dados_2012_2,dados_2013_1,dados_2013_2,dados_2014_1,\n",
    "                                    dados_2014_2,dados_2015_1,dados_2015_2,dados_2016_1,dados_2016_2,dados_2017_1,dados_2017_2,dados_2018_1,dados_2018_2,\n",
    "                                    dados_2019_1,dados_2019_2,dados_2020_1],ignore_index=True)\n",
    "emprestimos_biblioteca"
   ]
  },
  {
   "cell_type": "code",
   "execution_count": null,
   "id": "d8628048-58e7-438c-9d1b-d1035aa59f91",
   "metadata": {},
   "outputs": [],
   "source": [
    "emprestimos_biblioteca.value_counts()"
   ]
  },
  {
   "cell_type": "code",
   "execution_count": null,
   "id": "42ca160c-dbee-4224-88e0-8dac46f2e5ec",
   "metadata": {},
   "outputs": [],
   "source": [
    "emprestimos_biblioteca = emprestimos_biblioteca.drop_duplicates()"
   ]
  },
  {
   "cell_type": "code",
   "execution_count": null,
   "id": "de0a69a7-106e-4a0b-b5a1-184bab83816e",
   "metadata": {},
   "outputs": [],
   "source": [
    "emprestimos_biblioteca.value_counts()\n",
    "emprestimos_biblioteca.head()"
   ]
  },
  {
   "cell_type": "code",
   "execution_count": null,
   "id": "e657826e-aea0-480c-aa9a-a6a6894b5683",
   "metadata": {},
   "outputs": [],
   "source": [
    "dados_exemplares = pd.read_parquet('https://github.com/FranciscoFoz/7_Days_of_Code_Alura-Python-Pandas/raw/main/Dia_1-Importando_dados/Datasets/dados_exemplares.parquet')\n",
    "dados_exemplares"
   ]
  },
  {
   "cell_type": "code",
   "execution_count": null,
   "id": "64944fd3-459d-41b8-b45f-dd7d1f8b2d34",
   "metadata": {},
   "outputs": [],
   "source": [
    "emprestimos_completo = emprestimos_biblioteca.merge(dados_exemplares)\n",
    "emprestimos_completo"
   ]
  },
  {
   "cell_type": "code",
   "execution_count": null,
   "id": "c996946c-b8ab-424e-9aea-86fa5398dd50",
   "metadata": {},
   "outputs": [],
   "source": [
    "# Usando List Comprehension para gerar a lista 'CDU_lista'\n",
    "CDU_lista = [\n",
    "    'Generalidades' if CDU < 100 else\n",
    "    'Filosofia e psicologia' if CDU < 200 else\n",
    "    'Religião' if CDU < 300 else\n",
    "    'Ciências sociais' if CDU < 400 else\n",
    "    'Classe vaga' if CDU < 500 else\n",
    "    'Matemática e ciências naturais' if CDU < 600 else\n",
    "    'Ciências aplicadas' if CDU < 700 else\n",
    "    'Belas artes' if CDU < 800 else\n",
    "    'Linguagem' if CDU < 900 else\n",
    "    'Geografia. Biografia. História.'\n",
    "    for CDU in emprestimos_completo['localizacao']\n",
    "]\n",
    "\n",
    "# Atribuindo a lista gerada à nova coluna 'CDU_geral'\n",
    "emprestimos_completo['CDU_geral'] = CDU_lista\n"
   ]
  },
  {
   "cell_type": "code",
   "execution_count": null,
   "id": "daef4eb8-23d9-4315-9b44-b467661446ba",
   "metadata": {},
   "outputs": [],
   "source": [
    "emprestimos_completo.head()"
   ]
  },
  {
   "cell_type": "code",
   "execution_count": null,
   "id": "5b07a973-5cb3-4d1e-a2c0-050b9b40565e",
   "metadata": {},
   "outputs": [],
   "source": [
    "emprestimos_completo.drop(columns=['registro_sistema'])"
   ]
  },
  {
   "cell_type": "code",
   "execution_count": null,
   "id": "7d07c8b5-a9be-4645-91f6-9f3b0462c02c",
   "metadata": {},
   "outputs": [],
   "source": [
    "emprestimos_completo['matricula_ou_siape'] = emprestimos_completo['matricula_ou_siape'].astype(str)\n",
    "emprestimos_completo.head()"
   ]
  },
  {
   "cell_type": "code",
   "execution_count": null,
   "id": "19367d91-3740-4fab-a42d-9cb8018d0850",
   "metadata": {},
   "outputs": [],
   "source": []
  },
  {
   "cell_type": "code",
   "execution_count": null,
   "id": "1facc7fa-2eb3-41d5-a216-d3ea7829a048",
   "metadata": {},
   "outputs": [],
   "source": []
  }
 ],
 "metadata": {
  "kernelspec": {
   "display_name": "Python 3 (ipykernel)",
   "language": "python",
   "name": "python3"
  },
  "language_info": {
   "codemirror_mode": {
    "name": "ipython",
    "version": 3
   },
   "file_extension": ".py",
   "mimetype": "text/x-python",
   "name": "python",
   "nbconvert_exporter": "python",
   "pygments_lexer": "ipython3",
   "version": "3.9.13"
  }
 },
 "nbformat": 4,
 "nbformat_minor": 5
}
